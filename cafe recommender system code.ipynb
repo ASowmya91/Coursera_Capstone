{
    "nbformat_minor": 1, 
    "cells": [
        {
            "source": "## Introduction\n", 
            "cell_type": "markdown", 
            "metadata": {
                "collapsed": true
            }
        }, 
        {
            "source": "In this lab, first step is to convert addresses into their equivalent latitude and longitude values. And then to use the Foursquare API to explore venues in Aarhus City. We use the explore function to get the most common venue categories in Aarhus and search  function to get cafes 500m near to the address.We then explore trending venues near the address and find rating for all cafes to find the best one near to the address. Finally, we will use the Folium library to visualize the cafes in Aarhus City 500 m around the address highlighting the best one.", 
            "cell_type": "markdown", 
            "metadata": {}
        }, 
        {
            "source": "## Table of Contents", 
            "cell_type": "markdown", 
            "metadata": {}
        }, 
        {
            "source": "1.Download and Explore Dataset", 
            "cell_type": "markdown", 
            "metadata": {}
        }, 
        {
            "source": "2.Explore venues in Aarhus city", 
            "cell_type": "markdown", 
            "metadata": {}
        }, 
        {
            "source": "3.Search for cafes", 
            "cell_type": "markdown", 
            "metadata": {}
        }, 
        {
            "source": "4.Review rating for the cafes 500 m near to the address", 
            "cell_type": "markdown", 
            "metadata": {}
        }, 
        {
            "source": "5.Display result to the user", 
            "cell_type": "markdown", 
            "metadata": {}
        }, 
        {
            "source": "%%Import libraries", 
            "cell_type": "markdown", 
            "metadata": {}
        }, 
        {
            "execution_count": 30, 
            "cell_type": "code", 
            "metadata": {}, 
            "outputs": [
                {
                    "output_type": "stream", 
                    "name": "stdout", 
                    "text": "Solving environment: done\n\n# All requested packages already installed.\n\nSolving environment: done\n\n# All requested packages already installed.\n\nLibraries imported.\n"
                }
            ], 
            "source": "import numpy as np # library to handle data in a vectorized manner\n\nimport pandas as pd # library for data analsysis\npd.set_option('display.max_columns', None)\npd.set_option('display.max_rows', None)\n\nimport json # library to handle JSON files\n\n!conda install -c conda-forge geopy --yes # uncomment this line if you haven't completed the Foursquare API lab\nfrom geopy.geocoders import Nominatim # convert an address into latitude and longitude values\nimport requests # library to handle requests\nfrom pandas.io.json import json_normalize # tranform JSON file into a pandas dataframe\n\n# Matplotlib and associated plotting modules\nimport matplotlib.cm as cm\nimport matplotlib.colors as colors\n\n# import k-means from clustering stage\nfrom sklearn.cluster import KMeans\n\n!conda install -c conda-forge folium=0.5.0 --yes # uncomment this line if you haven't completed the Foursquare API lab\nimport folium # map rendering library\n\nprint('Libraries imported.')"
        }, 
        {
            "source": "### 1.Download and Explore Dataset", 
            "cell_type": "markdown", 
            "metadata": {}
        }, 
        {
            "execution_count": 31, 
            "cell_type": "code", 
            "metadata": {}, 
            "outputs": [
                {
                    "output_type": "stream", 
                    "name": "stdout", 
                    "text": "Your credentails:\nCLIENT_ID: ISQA5CTIR5GRHAZFNKT0O015TA0J4ZUFELFQJAMRBI22HNIV\nCLIENT_SECRET:PWUQ1BLLPQ3BRTJMEZJFYOHIIRMK52YV0UEHFMPTU3I24RHG\n"
                }
            ], 
            "source": "CLIENT_ID = 'ISQA5CTIR5GRHAZFNKT0O015TA0J4ZUFELFQJAMRBI22HNIV' # your Foursquare ID\nCLIENT_SECRET = 'PWUQ1BLLPQ3BRTJMEZJFYOHIIRMK52YV0UEHFMPTU3I24RHG' # your Foursquare Secret\nVERSION = '20180605' # Foursquare API version\n\nprint('Your credentails:')\nprint('CLIENT_ID: ' + CLIENT_ID)\nprint('CLIENT_SECRET:' + CLIENT_SECRET)"
        }, 
        {
            "execution_count": 223, 
            "cell_type": "code", 
            "metadata": {}, 
            "outputs": [
                {
                    "output_type": "stream", 
                    "name": "stdout", 
                    "text": "56.154337 10.206346\n"
                }
            ], 
            "source": "address = 'Str\u00f8get, aarhus, Denmark'\n#address = 'Str\u00f8get, copenhagen, Denmark'\ngeolocator = Nominatim(user_agent=\"foursquare_agent\")\nlocation = geolocator.geocode(address)\nlatitude = location.latitude\nlongitude = location.longitude\nprint(latitude, longitude)"
        }, 
        {
            "execution_count": 224, 
            "cell_type": "code", 
            "metadata": {}, 
            "outputs": [
                {
                    "execution_count": 224, 
                    "metadata": {}, 
                    "data": {
                        "text/plain": "'https://api.foursquare.com/v2/venues/explore?&client_id=ISQA5CTIR5GRHAZFNKT0O015TA0J4ZUFELFQJAMRBI22HNIV&client_secret=PWUQ1BLLPQ3BRTJMEZJFYOHIIRMK52YV0UEHFMPTU3I24RHG&v=20180605&ll=56.154337,10.206346&radius=500&limit=100'"
                    }, 
                    "output_type": "execute_result"
                }
            ], 
            "source": "LIMIT = 100# limit of number of venues returned by Foursquare API\n\nradius = 500 # define radius\n\n\nurl = 'https://api.foursquare.com/v2/venues/explore?&client_id={}&client_secret={}&v={}&ll={},{}&radius={}&limit={}'.format(\n    CLIENT_ID, \n    CLIENT_SECRET, \n    VERSION, \n    latitude, \n    longitude, \n    radius, \n    LIMIT)\nurl\n"
        }, 
        {
            "execution_count": 225, 
            "cell_type": "code", 
            "metadata": {}, 
            "outputs": [], 
            "source": "results = requests.get(url).json()\n"
        }, 
        {
            "execution_count": 226, 
            "cell_type": "code", 
            "metadata": {}, 
            "outputs": [], 
            "source": "# function that extracts the category of the venue\ndef get_category_type(row):\n    try:\n        categories_list = row['categories']\n    except:\n        categories_list = row['venue.categories']\n        \n    if len(categories_list) == 0:\n        return None\n    else:\n        return categories_list[0]['name']\n    "
        }, 
        {
            "execution_count": 227, 
            "cell_type": "code", 
            "metadata": {}, 
            "outputs": [
                {
                    "execution_count": 227, 
                    "metadata": {}, 
                    "data": {
                        "text/html": "<div>\n<style scoped>\n    .dataframe tbody tr th:only-of-type {\n        vertical-align: middle;\n    }\n\n    .dataframe tbody tr th {\n        vertical-align: top;\n    }\n\n    .dataframe thead th {\n        text-align: right;\n    }\n</style>\n<table border=\"1\" class=\"dataframe\">\n  <thead>\n    <tr style=\"text-align: right;\">\n      <th></th>\n      <th>name</th>\n      <th>categories</th>\n      <th>lat</th>\n      <th>lng</th>\n      <th>id</th>\n    </tr>\n  </thead>\n  <tbody>\n    <tr>\n      <th>0</th>\n      <td>Pho C&amp;P</td>\n      <td>Vietnamese Restaurant</td>\n      <td>56.152787</td>\n      <td>10.206463</td>\n      <td>574f22f3498e42c764d0abcc</td>\n    </tr>\n    <tr>\n      <th>1</th>\n      <td>Villa Provence</td>\n      <td>Hotel</td>\n      <td>56.154209</td>\n      <td>10.209169</td>\n      <td>4b7d5117f964a520e0b72fe3</td>\n    </tr>\n    <tr>\n      <th>2</th>\n      <td>Salling ROOFTOP</td>\n      <td>Roof Deck</td>\n      <td>56.154278</td>\n      <td>10.207073</td>\n      <td>599fedfead910e6c3440f9f1</td>\n    </tr>\n    <tr>\n      <th>3</th>\n      <td>The Burger Shack</td>\n      <td>Burger Joint</td>\n      <td>56.155265</td>\n      <td>10.205193</td>\n      <td>56cafa03498e958a8a33a017</td>\n    </tr>\n    <tr>\n      <th>4</th>\n      <td>Raadhuus Kafeen</td>\n      <td>Scandinavian Restaurant</td>\n      <td>56.153157</td>\n      <td>10.204232</td>\n      <td>4ba79050f964a520ca9d39e3</td>\n    </tr>\n  </tbody>\n</table>\n</div>", 
                        "text/plain": "               name               categories        lat        lng  \\\n0           Pho C&P    Vietnamese Restaurant  56.152787  10.206463   \n1    Villa Provence                    Hotel  56.154209  10.209169   \n2   Salling ROOFTOP                Roof Deck  56.154278  10.207073   \n3  The Burger Shack             Burger Joint  56.155265  10.205193   \n4   Raadhuus Kafeen  Scandinavian Restaurant  56.153157  10.204232   \n\n                         id  \n0  574f22f3498e42c764d0abcc  \n1  4b7d5117f964a520e0b72fe3  \n2  599fedfead910e6c3440f9f1  \n3  56cafa03498e958a8a33a017  \n4  4ba79050f964a520ca9d39e3  "
                    }, 
                    "output_type": "execute_result"
                }
            ], 
            "source": "venues = results['response']['groups'][0]['items']\n    \nnearby_venues = json_normalize(venues) # flatten JSON\n\n# filter columns\nfiltered_columns = ['venue.name', 'venue.categories', 'venue.location.lat', 'venue.location.lng','venue.id']\nnearby_venues =nearby_venues.loc[:, filtered_columns]\n\n# filter the category for each row\nnearby_venues['venue.categories'] = nearby_venues.apply(get_category_type, axis=1)\n\n# clean columns\nnearby_venues.columns = [col.split(\".\")[-1] for col in nearby_venues.columns]\n\nnearby_venues.head()\n"
        }, 
        {
            "execution_count": 228, 
            "cell_type": "code", 
            "metadata": {}, 
            "outputs": [
                {
                    "execution_count": 228, 
                    "metadata": {}, 
                    "data": {
                        "text/html": "<div>\n<style scoped>\n    .dataframe tbody tr th:only-of-type {\n        vertical-align: middle;\n    }\n\n    .dataframe tbody tr th {\n        vertical-align: top;\n    }\n\n    .dataframe thead th {\n        text-align: right;\n    }\n</style>\n<table border=\"1\" class=\"dataframe\">\n  <thead>\n    <tr style=\"text-align: right;\">\n      <th></th>\n      <th>name</th>\n      <th>categories</th>\n      <th>lat</th>\n      <th>lng</th>\n      <th>id</th>\n    </tr>\n  </thead>\n  <tbody>\n    <tr>\n      <th>0</th>\n      <td>Pho C&amp;P</td>\n      <td>Vietnamese Restaurant</td>\n      <td>56.152787</td>\n      <td>10.206463</td>\n      <td>574f22f3498e42c764d0abcc</td>\n    </tr>\n    <tr>\n      <th>1</th>\n      <td>Villa Provence</td>\n      <td>Hotel</td>\n      <td>56.154209</td>\n      <td>10.209169</td>\n      <td>4b7d5117f964a520e0b72fe3</td>\n    </tr>\n    <tr>\n      <th>2</th>\n      <td>Salling ROOFTOP</td>\n      <td>Roof Deck</td>\n      <td>56.154278</td>\n      <td>10.207073</td>\n      <td>599fedfead910e6c3440f9f1</td>\n    </tr>\n    <tr>\n      <th>3</th>\n      <td>The Burger Shack</td>\n      <td>Burger Joint</td>\n      <td>56.155265</td>\n      <td>10.205193</td>\n      <td>56cafa03498e958a8a33a017</td>\n    </tr>\n    <tr>\n      <th>4</th>\n      <td>Raadhuus Kafeen</td>\n      <td>Scandinavian Restaurant</td>\n      <td>56.153157</td>\n      <td>10.204232</td>\n      <td>4ba79050f964a520ca9d39e3</td>\n    </tr>\n  </tbody>\n</table>\n</div>", 
                        "text/plain": "               name               categories        lat        lng  \\\n0           Pho C&P    Vietnamese Restaurant  56.152787  10.206463   \n1    Villa Provence                    Hotel  56.154209  10.209169   \n2   Salling ROOFTOP                Roof Deck  56.154278  10.207073   \n3  The Burger Shack             Burger Joint  56.155265  10.205193   \n4   Raadhuus Kafeen  Scandinavian Restaurant  56.153157  10.204232   \n\n                         id  \n0  574f22f3498e42c764d0abcc  \n1  4b7d5117f964a520e0b72fe3  \n2  599fedfead910e6c3440f9f1  \n3  56cafa03498e958a8a33a017  \n4  4ba79050f964a520ca9d39e3  "
                    }, 
                    "output_type": "execute_result"
                }
            ], 
            "source": "venues = results['response']['groups'][0]['items']\n    \nnearby_venues = json_normalize(venues) # flatten JSON\n\n# filter columns\nfiltered_columns = ['venue.name', 'venue.categories', 'venue.location.lat', 'venue.location.lng','venue.id']\nnearby_venues =nearby_venues.loc[:, filtered_columns]\n\n# filter the category for each row\nnearby_venues['venue.categories'] = nearby_venues.apply(get_category_type, axis=1)\n\n# clean columns\nnearby_venues.columns = [col.split(\".\")[-1] for col in nearby_venues.columns]\n\nnearby_venues.head()"
        }, 
        {
            "execution_count": 229, 
            "cell_type": "code", 
            "metadata": {}, 
            "outputs": [
                {
                    "output_type": "stream", 
                    "name": "stdout", 
                    "text": "62 venues were returned by Foursquare.\n"
                }
            ], 
            "source": "print('{} venues were returned by Foursquare.'.format(nearby_venues.shape[0]))"
        }, 
        {
            "execution_count": 230, 
            "cell_type": "code", 
            "metadata": {}, 
            "outputs": [
                {
                    "execution_count": 230, 
                    "metadata": {}, 
                    "data": {
                        "text/plain": "62"
                    }, 
                    "output_type": "execute_result"
                }
            ], 
            "source": "no_of_venues=nearby_venues.shape[0]\nno_of_venues"
        }, 
        {
            "execution_count": 231, 
            "cell_type": "code", 
            "metadata": {}, 
            "outputs": [
                {
                    "output_type": "stream", 
                    "name": "stdout", 
                    "text": "There are 38 uniques categories.\n"
                }
            ], 
            "source": "print('There are {} uniques categories.'.format(len(nearby_venues['categories'].unique())))"
        }, 
        {
            "execution_count": 232, 
            "cell_type": "code", 
            "metadata": {}, 
            "outputs": [
                {
                    "output_type": "stream", 
                    "name": "stdout", 
                    "text": "categories\nArt Museum                         1\nAsian Restaurant                   2\nBagel Shop                         1\nBakery                             1\nBar                                2\nBurger Joint                       1\nCaf\u00e9                               6\nCocktail Bar                       3\nCoffee Shop                        3\nConcert Hall                       2\nElectronics Store                  1\nFrench Restaurant                  1\nGastropub                          1\nGourmet Shop                       1\nGrocery Store                      1\nGym Pool                           1\nHotel                              5\nIce Cream Shop                     1\nItalian Restaurant                 1\nJuice Bar                          1\nMarket                             1\nMolecular Gastronomy Restaurant    1\nMultiplex                          1\nOutdoor Sculpture                  1\nPark                               1\nPedestrian Plaza                   1\nPlaza                              3\nPub                                4\nRoof Deck                          1\nSandwich Place                     1\nScandinavian Restaurant            2\nSouthern / Soul Food Restaurant    1\nSteakhouse                         2\nStreet Food Gathering              1\nSushi Restaurant                   1\nTea Room                           1\nTheater                            1\nVietnamese Restaurant              2\ndtype: int64\n"
                }
            ], 
            "source": "sorted_venues = nearby_venues.pivot_table(index=['categories'], aggfunc='size')\nprint (sorted_venues)"
        }, 
        {
            "execution_count": 233, 
            "cell_type": "code", 
            "metadata": {}, 
            "outputs": [
                {
                    "execution_count": 233, 
                    "metadata": {}, 
                    "data": {
                        "text/plain": "{'meta': {'code': 200, 'requestId': '5d8cb3f2a87921002cf648af'},\n 'response': {'venues': []}}"
                    }, 
                    "output_type": "execute_result"
                }
            ], 
            "source": "# define URL\nurl = 'https://api.foursquare.com/v2/venues/trending?client_id={}&client_secret={}&ll={},{}&v={}'.format(CLIENT_ID, CLIENT_SECRET, latitude, longitude, VERSION)\n\n# send GET request and get trending venues\nresults1 = requests.get(url).json()\nresults1"
        }, 
        {
            "execution_count": 234, 
            "cell_type": "code", 
            "metadata": {}, 
            "outputs": [], 
            "source": "if len(results1['response']['venues']) == 0:\n    trending_venues_df = 'No trending venues are available at the moment!'\n    \nelse:\n    trending_venues = results1['response']['venues']\n    trending_venues_df = json_normalize(trending_venues)\n\n    # filter columns\n    columns_filtered = ['name', 'categories'] + ['location.distance', 'location.city', 'location.postalCode', 'location.state', 'location.country', 'location.lat', 'location.lng']\n    trending_venues_df = trending_venues_df.loc[:, columns_filtered]\n\n    # filter the category for each row\n    trending_venues_df['categories'] = trending_venues_df.apply(get_category_type, axis=1)"
        }, 
        {
            "execution_count": 235, 
            "cell_type": "code", 
            "metadata": {}, 
            "outputs": [
                {
                    "execution_count": 235, 
                    "metadata": {}, 
                    "data": {
                        "text/plain": "'No trending venues are available at the moment!'"
                    }, 
                    "output_type": "execute_result"
                }
            ], 
            "source": "# display trending venues\ntrending_venues_df"
        }, 
        {
            "execution_count": 236, 
            "cell_type": "code", 
            "metadata": {}, 
            "outputs": [
                {
                    "output_type": "stream", 
                    "name": "stdout", 
                    "text": "coffee .... OK!\n"
                }
            ], 
            "source": "search_query = 'coffee'\nradius = 500\nprint(search_query + ' .... OK!')"
        }, 
        {
            "execution_count": 237, 
            "cell_type": "code", 
            "metadata": {}, 
            "outputs": [
                {
                    "execution_count": 237, 
                    "metadata": {}, 
                    "data": {
                        "text/plain": "'https://api.foursquare.com/v2/venues/search?client_id=ISQA5CTIR5GRHAZFNKT0O015TA0J4ZUFELFQJAMRBI22HNIV&client_secret=PWUQ1BLLPQ3BRTJMEZJFYOHIIRMK52YV0UEHFMPTU3I24RHG&ll=56.154337,10.206346&v=20180605&query=coffee&radius=500&limit=100'"
                    }, 
                    "output_type": "execute_result"
                }
            ], 
            "source": "url = 'https://api.foursquare.com/v2/venues/search?client_id={}&client_secret={}&ll={},{}&v={}&query={}&radius={}&limit={}'.format(CLIENT_ID, CLIENT_SECRET, latitude, longitude, VERSION, search_query, radius, LIMIT)\nurl"
        }, 
        {
            "execution_count": 238, 
            "cell_type": "code", 
            "metadata": {}, 
            "outputs": [], 
            "source": "results = requests.get(url).json()"
        }, 
        {
            "execution_count": 239, 
            "cell_type": "code", 
            "metadata": {}, 
            "outputs": [
                {
                    "execution_count": 239, 
                    "metadata": {}, 
                    "data": {
                        "text/html": "<div>\n<style scoped>\n    .dataframe tbody tr th:only-of-type {\n        vertical-align: middle;\n    }\n\n    .dataframe tbody tr th {\n        vertical-align: top;\n    }\n\n    .dataframe thead th {\n        text-align: right;\n    }\n</style>\n<table border=\"1\" class=\"dataframe\">\n  <thead>\n    <tr style=\"text-align: right;\">\n      <th></th>\n      <th>categories</th>\n      <th>hasPerk</th>\n      <th>id</th>\n      <th>location.address</th>\n      <th>location.cc</th>\n      <th>location.city</th>\n      <th>location.country</th>\n      <th>location.crossStreet</th>\n      <th>location.distance</th>\n      <th>location.formattedAddress</th>\n      <th>location.labeledLatLngs</th>\n      <th>location.lat</th>\n      <th>location.lng</th>\n      <th>location.neighborhood</th>\n      <th>location.postalCode</th>\n      <th>location.state</th>\n      <th>name</th>\n      <th>referralId</th>\n    </tr>\n  </thead>\n  <tbody>\n    <tr>\n      <th>0</th>\n      <td>[{'id': '4bf58dd8d48988d1e0931735', 'name': 'C...</td>\n      <td>False</td>\n      <td>4b449f1ff964a52005f825e3</td>\n      <td>Baneg\u00e5rdspladsen 16</td>\n      <td>DK</td>\n      <td>Aarhus C</td>\n      <td>Danmark</td>\n      <td>Baneg\u00e5rdsgade</td>\n      <td>447</td>\n      <td>[Baneg\u00e5rdspladsen 16 (Baneg\u00e5rdsgade), 8000 Aar...</td>\n      <td>[{'label': 'display', 'lat': 56.15074602548332...</td>\n      <td>56.150746</td>\n      <td>10.203107</td>\n      <td>NaN</td>\n      <td>8000</td>\n      <td>Region Midtjylland</td>\n      <td>Baresso Coffee</td>\n      <td>v-1569502194</td>\n    </tr>\n    <tr>\n      <th>1</th>\n      <td>[{'id': '4bf58dd8d48988d1e0931735', 'name': 'C...</td>\n      <td>False</td>\n      <td>4d8dfaabd4ec8cfaf8c36689</td>\n      <td>Ryesgade 15</td>\n      <td>DK</td>\n      <td>\u00c5rhus</td>\n      <td>Danmark</td>\n      <td>NaN</td>\n      <td>296</td>\n      <td>[Ryesgade 15, 8000 \u00c5rhus, Danmark]</td>\n      <td>[{'label': 'display', 'lat': 56.15179389787454...</td>\n      <td>56.151794</td>\n      <td>10.204912</td>\n      <td>NaN</td>\n      <td>8000</td>\n      <td>Region Midtjylland</td>\n      <td>Baresso Coffee</td>\n      <td>v-1569502194</td>\n    </tr>\n    <tr>\n      <th>2</th>\n      <td>[{'id': '4bf58dd8d48988d1e0931735', 'name': 'C...</td>\n      <td>False</td>\n      <td>4c0fd1e881e976b07b260eeb</td>\n      <td>Frederiksgade 5</td>\n      <td>DK</td>\n      <td>Aarhus C</td>\n      <td>Danmark</td>\n      <td>Fiskergade</td>\n      <td>220</td>\n      <td>[Frederiksgade 5 (Fiskergade), 8000 Aarhus C, ...</td>\n      <td>[{'label': 'display', 'lat': 56.15630454669505...</td>\n      <td>56.156305</td>\n      <td>10.206686</td>\n      <td>Midtbyen</td>\n      <td>8000</td>\n      <td>Region Midtjylland</td>\n      <td>Baresso Coffee</td>\n      <td>v-1569502194</td>\n    </tr>\n    <tr>\n      <th>3</th>\n      <td>[{'id': '4bf58dd8d48988d1e0931735', 'name': 'C...</td>\n      <td>False</td>\n      <td>5d10bede64102800239f8c9d</td>\n      <td>NaN</td>\n      <td>DK</td>\n      <td>\u00c5rhus</td>\n      <td>Danmark</td>\n      <td>NaN</td>\n      <td>153</td>\n      <td>[8000 \u00c5rhus, Danmark]</td>\n      <td>[{'label': 'display', 'lat': 56.15298, 'lng': ...</td>\n      <td>56.152980</td>\n      <td>10.205909</td>\n      <td>NaN</td>\n      <td>8000</td>\n      <td>Region Midtjylland</td>\n      <td>Coffee Ten</td>\n      <td>v-1569502194</td>\n    </tr>\n    <tr>\n      <th>4</th>\n      <td>[{'id': '4bf58dd8d48988d1e0931735', 'name': 'C...</td>\n      <td>False</td>\n      <td>4b449ef2f964a520fff725e3</td>\n      <td>S\u00f8ndergade 2</td>\n      <td>DK</td>\n      <td>\u00c5rhus</td>\n      <td>Danmark</td>\n      <td>Clemensbro</td>\n      <td>195</td>\n      <td>[S\u00f8ndergade 2 (Clemensbro), 8000 \u00c5rhus, Danmark]</td>\n      <td>[{'label': 'display', 'lat': 56.15580938478404...</td>\n      <td>56.155809</td>\n      <td>10.208073</td>\n      <td>NaN</td>\n      <td>8000</td>\n      <td>Region Midtjylland</td>\n      <td>Baresso Coffee</td>\n      <td>v-1569502194</td>\n    </tr>\n  </tbody>\n</table>\n</div>", 
                        "text/plain": "                                          categories  hasPerk  \\\n0  [{'id': '4bf58dd8d48988d1e0931735', 'name': 'C...    False   \n1  [{'id': '4bf58dd8d48988d1e0931735', 'name': 'C...    False   \n2  [{'id': '4bf58dd8d48988d1e0931735', 'name': 'C...    False   \n3  [{'id': '4bf58dd8d48988d1e0931735', 'name': 'C...    False   \n4  [{'id': '4bf58dd8d48988d1e0931735', 'name': 'C...    False   \n\n                         id     location.address location.cc location.city  \\\n0  4b449f1ff964a52005f825e3  Baneg\u00e5rdspladsen 16          DK      Aarhus C   \n1  4d8dfaabd4ec8cfaf8c36689          Ryesgade 15          DK         \u00c5rhus   \n2  4c0fd1e881e976b07b260eeb      Frederiksgade 5          DK      Aarhus C   \n3  5d10bede64102800239f8c9d                  NaN          DK         \u00c5rhus   \n4  4b449ef2f964a520fff725e3         S\u00f8ndergade 2          DK         \u00c5rhus   \n\n  location.country location.crossStreet  location.distance  \\\n0          Danmark        Baneg\u00e5rdsgade                447   \n1          Danmark                  NaN                296   \n2          Danmark           Fiskergade                220   \n3          Danmark                  NaN                153   \n4          Danmark           Clemensbro                195   \n\n                           location.formattedAddress  \\\n0  [Baneg\u00e5rdspladsen 16 (Baneg\u00e5rdsgade), 8000 Aar...   \n1                 [Ryesgade 15, 8000 \u00c5rhus, Danmark]   \n2  [Frederiksgade 5 (Fiskergade), 8000 Aarhus C, ...   \n3                              [8000 \u00c5rhus, Danmark]   \n4   [S\u00f8ndergade 2 (Clemensbro), 8000 \u00c5rhus, Danmark]   \n\n                             location.labeledLatLngs  location.lat  \\\n0  [{'label': 'display', 'lat': 56.15074602548332...     56.150746   \n1  [{'label': 'display', 'lat': 56.15179389787454...     56.151794   \n2  [{'label': 'display', 'lat': 56.15630454669505...     56.156305   \n3  [{'label': 'display', 'lat': 56.15298, 'lng': ...     56.152980   \n4  [{'label': 'display', 'lat': 56.15580938478404...     56.155809   \n\n   location.lng location.neighborhood location.postalCode      location.state  \\\n0     10.203107                   NaN                8000  Region Midtjylland   \n1     10.204912                   NaN                8000  Region Midtjylland   \n2     10.206686              Midtbyen                8000  Region Midtjylland   \n3     10.205909                   NaN                8000  Region Midtjylland   \n4     10.208073                   NaN                8000  Region Midtjylland   \n\n             name    referralId  \n0  Baresso Coffee  v-1569502194  \n1  Baresso Coffee  v-1569502194  \n2  Baresso Coffee  v-1569502194  \n3      Coffee Ten  v-1569502194  \n4  Baresso Coffee  v-1569502194  "
                    }, 
                    "output_type": "execute_result"
                }
            ], 
            "source": "# assign relevant part of JSON to venues\nvenues = results['response']['venues']\n\n# tranform venues into a dataframe\ndataframe = json_normalize(venues)\ndataframe.head()"
        }, 
        {
            "execution_count": 240, 
            "cell_type": "code", 
            "metadata": {}, 
            "outputs": [
                {
                    "execution_count": 240, 
                    "metadata": {}, 
                    "data": {
                        "text/html": "<div>\n<style scoped>\n    .dataframe tbody tr th:only-of-type {\n        vertical-align: middle;\n    }\n\n    .dataframe tbody tr th {\n        vertical-align: top;\n    }\n\n    .dataframe thead th {\n        text-align: right;\n    }\n</style>\n<table border=\"1\" class=\"dataframe\">\n  <thead>\n    <tr style=\"text-align: right;\">\n      <th></th>\n      <th>name</th>\n      <th>categories</th>\n      <th>address</th>\n      <th>cc</th>\n      <th>city</th>\n      <th>country</th>\n      <th>crossStreet</th>\n      <th>distance</th>\n      <th>formattedAddress</th>\n      <th>labeledLatLngs</th>\n      <th>lat</th>\n      <th>lng</th>\n      <th>neighborhood</th>\n      <th>postalCode</th>\n      <th>state</th>\n      <th>id</th>\n    </tr>\n  </thead>\n  <tbody>\n    <tr>\n      <th>0</th>\n      <td>Baresso Coffee</td>\n      <td>Coffee Shop</td>\n      <td>Baneg\u00e5rdspladsen 16</td>\n      <td>DK</td>\n      <td>Aarhus C</td>\n      <td>Danmark</td>\n      <td>Baneg\u00e5rdsgade</td>\n      <td>447</td>\n      <td>[Baneg\u00e5rdspladsen 16 (Baneg\u00e5rdsgade), 8000 Aar...</td>\n      <td>[{'label': 'display', 'lat': 56.15074602548332...</td>\n      <td>56.150746</td>\n      <td>10.203107</td>\n      <td>NaN</td>\n      <td>8000</td>\n      <td>Region Midtjylland</td>\n      <td>4b449f1ff964a52005f825e3</td>\n    </tr>\n    <tr>\n      <th>1</th>\n      <td>Baresso Coffee</td>\n      <td>Coffee Shop</td>\n      <td>Ryesgade 15</td>\n      <td>DK</td>\n      <td>\u00c5rhus</td>\n      <td>Danmark</td>\n      <td>NaN</td>\n      <td>296</td>\n      <td>[Ryesgade 15, 8000 \u00c5rhus, Danmark]</td>\n      <td>[{'label': 'display', 'lat': 56.15179389787454...</td>\n      <td>56.151794</td>\n      <td>10.204912</td>\n      <td>NaN</td>\n      <td>8000</td>\n      <td>Region Midtjylland</td>\n      <td>4d8dfaabd4ec8cfaf8c36689</td>\n    </tr>\n    <tr>\n      <th>2</th>\n      <td>Baresso Coffee</td>\n      <td>Coffee Shop</td>\n      <td>Frederiksgade 5</td>\n      <td>DK</td>\n      <td>Aarhus C</td>\n      <td>Danmark</td>\n      <td>Fiskergade</td>\n      <td>220</td>\n      <td>[Frederiksgade 5 (Fiskergade), 8000 Aarhus C, ...</td>\n      <td>[{'label': 'display', 'lat': 56.15630454669505...</td>\n      <td>56.156305</td>\n      <td>10.206686</td>\n      <td>Midtbyen</td>\n      <td>8000</td>\n      <td>Region Midtjylland</td>\n      <td>4c0fd1e881e976b07b260eeb</td>\n    </tr>\n    <tr>\n      <th>3</th>\n      <td>Coffee Ten</td>\n      <td>Coffee Shop</td>\n      <td>NaN</td>\n      <td>DK</td>\n      <td>\u00c5rhus</td>\n      <td>Danmark</td>\n      <td>NaN</td>\n      <td>153</td>\n      <td>[8000 \u00c5rhus, Danmark]</td>\n      <td>[{'label': 'display', 'lat': 56.15298, 'lng': ...</td>\n      <td>56.152980</td>\n      <td>10.205909</td>\n      <td>NaN</td>\n      <td>8000</td>\n      <td>Region Midtjylland</td>\n      <td>5d10bede64102800239f8c9d</td>\n    </tr>\n    <tr>\n      <th>4</th>\n      <td>Baresso Coffee</td>\n      <td>Coffee Shop</td>\n      <td>S\u00f8ndergade 2</td>\n      <td>DK</td>\n      <td>\u00c5rhus</td>\n      <td>Danmark</td>\n      <td>Clemensbro</td>\n      <td>195</td>\n      <td>[S\u00f8ndergade 2 (Clemensbro), 8000 \u00c5rhus, Danmark]</td>\n      <td>[{'label': 'display', 'lat': 56.15580938478404...</td>\n      <td>56.155809</td>\n      <td>10.208073</td>\n      <td>NaN</td>\n      <td>8000</td>\n      <td>Region Midtjylland</td>\n      <td>4b449ef2f964a520fff725e3</td>\n    </tr>\n    <tr>\n      <th>5</th>\n      <td>Great Coffee</td>\n      <td>Coffee Shop</td>\n      <td>Klostergade 32</td>\n      <td>DK</td>\n      <td>\u00c5rhus</td>\n      <td>Danmark</td>\n      <td>NaN</td>\n      <td>525</td>\n      <td>[Klostergade 32, 8000 \u00c5rhus, Danmark]</td>\n      <td>[{'label': 'display', 'lat': 56.15904467791991...</td>\n      <td>56.159045</td>\n      <td>10.206855</td>\n      <td>NaN</td>\n      <td>8000</td>\n      <td>Region Midtjylland</td>\n      <td>4f2a5d1ee4b0582eff405f6a</td>\n    </tr>\n    <tr>\n      <th>6</th>\n      <td>Street Coffee</td>\n      <td>Coffee Shop</td>\n      <td>Vestergade 52</td>\n      <td>DK</td>\n      <td>Aarhus C</td>\n      <td>Danmark</td>\n      <td>NaN</td>\n      <td>455</td>\n      <td>[Vestergade 52, 8000 Aarhus C, Danmark]</td>\n      <td>[{'label': 'display', 'lat': 56.15752413900688...</td>\n      <td>56.157524</td>\n      <td>10.201735</td>\n      <td>NaN</td>\n      <td>8000</td>\n      <td>Region Midtjylland</td>\n      <td>4f422c29e4b005b5367c91d5</td>\n    </tr>\n    <tr>\n      <th>7</th>\n      <td>Bill's Coffee</td>\n      <td>Coffee Shop</td>\n      <td>NaN</td>\n      <td>DK</td>\n      <td>NaN</td>\n      <td>Danmark</td>\n      <td>NaN</td>\n      <td>486</td>\n      <td>[Danmark]</td>\n      <td>[{'label': 'display', 'lat': 56.15757213158133...</td>\n      <td>56.157572</td>\n      <td>10.201061</td>\n      <td>NaN</td>\n      <td>NaN</td>\n      <td>NaN</td>\n      <td>521e1701498ee194cb68f2dc</td>\n    </tr>\n    <tr>\n      <th>8</th>\n      <td>La Cabra Coffee</td>\n      <td>Coffee Shop</td>\n      <td>Baneg\u00e5rdspladsen 1</td>\n      <td>DK</td>\n      <td>\u00c5rhus</td>\n      <td>Danmark</td>\n      <td>NaN</td>\n      <td>436</td>\n      <td>[Baneg\u00e5rdspladsen 1, 8000 \u00c5rhus, Danmark]</td>\n      <td>[{'label': 'display', 'lat': 56.150502, 'lng':...</td>\n      <td>56.150502</td>\n      <td>10.204907</td>\n      <td>NaN</td>\n      <td>8000</td>\n      <td>Region Midtjylland</td>\n      <td>5b702b38491be70039c0a7b1</td>\n    </tr>\n    <tr>\n      <th>9</th>\n      <td>Clever Coffee</td>\n      <td>Coffee Shop</td>\n      <td>NaN</td>\n      <td>DK</td>\n      <td>\u00c5rhus</td>\n      <td>Danmark</td>\n      <td>NaN</td>\n      <td>388</td>\n      <td>[8000 \u00c5rhus, Danmark]</td>\n      <td>[{'label': 'display', 'lat': 56.151365, 'lng':...</td>\n      <td>56.151365</td>\n      <td>10.209630</td>\n      <td>NaN</td>\n      <td>8000</td>\n      <td>Region Midtjylland</td>\n      <td>59d6275e0a464d72f2dd0d75</td>\n    </tr>\n    <tr>\n      <th>10</th>\n      <td>MENTOR - Sons Of Coffee</td>\n      <td>Scandinavian Restaurant</td>\n      <td>Guldsmedgade 30</td>\n      <td>DK</td>\n      <td>\u00c5rhus</td>\n      <td>Danmark</td>\n      <td>NaN</td>\n      <td>561</td>\n      <td>[Guldsmedgade 30, 8000 \u00c5rhus, Danmark]</td>\n      <td>[{'label': 'display', 'lat': 56.15931177807936...</td>\n      <td>56.159312</td>\n      <td>10.207833</td>\n      <td>NaN</td>\n      <td>8000</td>\n      <td>Region Midtjylland</td>\n      <td>4bee95522c082d7f6f8f3042</td>\n    </tr>\n    <tr>\n      <th>11</th>\n      <td>Caf\u00e9 Vestergade</td>\n      <td>Caf\u00e9</td>\n      <td>Vestergade 42</td>\n      <td>DK</td>\n      <td>\u00c5rhus</td>\n      <td>Danmark</td>\n      <td>NaN</td>\n      <td>429</td>\n      <td>[Vestergade 42, 8000 \u00c5rhus Centrum, Danmark]</td>\n      <td>[{'label': 'display', 'lat': 56.15762895218321...</td>\n      <td>56.157629</td>\n      <td>10.202745</td>\n      <td>NaN</td>\n      <td>8000</td>\n      <td>Region Midtjylland</td>\n      <td>4b448aa8f964a5204af625e3</td>\n    </tr>\n    <tr>\n      <th>12</th>\n      <td>Espresso House</td>\n      <td>Coffee Shop</td>\n      <td>M.P. Bruuns Gade 25, Butik 413</td>\n      <td>DK</td>\n      <td>\u00c5rhus</td>\n      <td>Danmark</td>\n      <td>NaN</td>\n      <td>586</td>\n      <td>[M.P. Bruuns Gade 25, Butik 413, 8000 \u00c5rhus, D...</td>\n      <td>[{'label': 'display', 'lat': 56.14926028236509...</td>\n      <td>56.149260</td>\n      <td>10.203828</td>\n      <td>NaN</td>\n      <td>8000</td>\n      <td>Region Midtjylland</td>\n      <td>4c15e672a5eb76b04600c4b7</td>\n    </tr>\n  </tbody>\n</table>\n</div>", 
                        "text/plain": "                       name               categories  \\\n0            Baresso Coffee              Coffee Shop   \n1            Baresso Coffee              Coffee Shop   \n2            Baresso Coffee              Coffee Shop   \n3                Coffee Ten              Coffee Shop   \n4            Baresso Coffee              Coffee Shop   \n5              Great Coffee              Coffee Shop   \n6             Street Coffee              Coffee Shop   \n7             Bill's Coffee              Coffee Shop   \n8           La Cabra Coffee              Coffee Shop   \n9             Clever Coffee              Coffee Shop   \n10  MENTOR - Sons Of Coffee  Scandinavian Restaurant   \n11          Caf\u00e9 Vestergade                     Caf\u00e9   \n12           Espresso House              Coffee Shop   \n\n                           address  cc      city  country    crossStreet  \\\n0              Baneg\u00e5rdspladsen 16  DK  Aarhus C  Danmark  Baneg\u00e5rdsgade   \n1                      Ryesgade 15  DK     \u00c5rhus  Danmark            NaN   \n2                  Frederiksgade 5  DK  Aarhus C  Danmark     Fiskergade   \n3                              NaN  DK     \u00c5rhus  Danmark            NaN   \n4                     S\u00f8ndergade 2  DK     \u00c5rhus  Danmark     Clemensbro   \n5                   Klostergade 32  DK     \u00c5rhus  Danmark            NaN   \n6                    Vestergade 52  DK  Aarhus C  Danmark            NaN   \n7                              NaN  DK       NaN  Danmark            NaN   \n8               Baneg\u00e5rdspladsen 1  DK     \u00c5rhus  Danmark            NaN   \n9                              NaN  DK     \u00c5rhus  Danmark            NaN   \n10                 Guldsmedgade 30  DK     \u00c5rhus  Danmark            NaN   \n11                   Vestergade 42  DK     \u00c5rhus  Danmark            NaN   \n12  M.P. Bruuns Gade 25, Butik 413  DK     \u00c5rhus  Danmark            NaN   \n\n    distance                                   formattedAddress  \\\n0        447  [Baneg\u00e5rdspladsen 16 (Baneg\u00e5rdsgade), 8000 Aar...   \n1        296                 [Ryesgade 15, 8000 \u00c5rhus, Danmark]   \n2        220  [Frederiksgade 5 (Fiskergade), 8000 Aarhus C, ...   \n3        153                              [8000 \u00c5rhus, Danmark]   \n4        195   [S\u00f8ndergade 2 (Clemensbro), 8000 \u00c5rhus, Danmark]   \n5        525              [Klostergade 32, 8000 \u00c5rhus, Danmark]   \n6        455            [Vestergade 52, 8000 Aarhus C, Danmark]   \n7        486                                          [Danmark]   \n8        436          [Baneg\u00e5rdspladsen 1, 8000 \u00c5rhus, Danmark]   \n9        388                              [8000 \u00c5rhus, Danmark]   \n10       561             [Guldsmedgade 30, 8000 \u00c5rhus, Danmark]   \n11       429       [Vestergade 42, 8000 \u00c5rhus Centrum, Danmark]   \n12       586  [M.P. Bruuns Gade 25, Butik 413, 8000 \u00c5rhus, D...   \n\n                                       labeledLatLngs        lat        lng  \\\n0   [{'label': 'display', 'lat': 56.15074602548332...  56.150746  10.203107   \n1   [{'label': 'display', 'lat': 56.15179389787454...  56.151794  10.204912   \n2   [{'label': 'display', 'lat': 56.15630454669505...  56.156305  10.206686   \n3   [{'label': 'display', 'lat': 56.15298, 'lng': ...  56.152980  10.205909   \n4   [{'label': 'display', 'lat': 56.15580938478404...  56.155809  10.208073   \n5   [{'label': 'display', 'lat': 56.15904467791991...  56.159045  10.206855   \n6   [{'label': 'display', 'lat': 56.15752413900688...  56.157524  10.201735   \n7   [{'label': 'display', 'lat': 56.15757213158133...  56.157572  10.201061   \n8   [{'label': 'display', 'lat': 56.150502, 'lng':...  56.150502  10.204907   \n9   [{'label': 'display', 'lat': 56.151365, 'lng':...  56.151365  10.209630   \n10  [{'label': 'display', 'lat': 56.15931177807936...  56.159312  10.207833   \n11  [{'label': 'display', 'lat': 56.15762895218321...  56.157629  10.202745   \n12  [{'label': 'display', 'lat': 56.14926028236509...  56.149260  10.203828   \n\n   neighborhood postalCode               state                        id  \n0           NaN       8000  Region Midtjylland  4b449f1ff964a52005f825e3  \n1           NaN       8000  Region Midtjylland  4d8dfaabd4ec8cfaf8c36689  \n2      Midtbyen       8000  Region Midtjylland  4c0fd1e881e976b07b260eeb  \n3           NaN       8000  Region Midtjylland  5d10bede64102800239f8c9d  \n4           NaN       8000  Region Midtjylland  4b449ef2f964a520fff725e3  \n5           NaN       8000  Region Midtjylland  4f2a5d1ee4b0582eff405f6a  \n6           NaN       8000  Region Midtjylland  4f422c29e4b005b5367c91d5  \n7           NaN        NaN                 NaN  521e1701498ee194cb68f2dc  \n8           NaN       8000  Region Midtjylland  5b702b38491be70039c0a7b1  \n9           NaN       8000  Region Midtjylland  59d6275e0a464d72f2dd0d75  \n10          NaN       8000  Region Midtjylland  4bee95522c082d7f6f8f3042  \n11          NaN       8000  Region Midtjylland  4b448aa8f964a5204af625e3  \n12          NaN       8000  Region Midtjylland  4c15e672a5eb76b04600c4b7  "
                    }, 
                    "output_type": "execute_result"
                }
            ], 
            "source": "# keep only columns that include venue name, and anything that is associated with location\nfiltered_columns = ['name', 'categories'] + [col for col in dataframe.columns if col.startswith('location.')] + ['id']\ndataframe_filtered = dataframe.loc[:, filtered_columns]\n\n# function that extracts the category of the venue\ndef get_category_type(row):\n    try:\n        categories_list = row['categories']\n    except:\n        categories_list = row['venue.categories']\n        \n    if len(categories_list) == 0:\n        return None\n    else:\n        return categories_list[0]['name']\n\n# filter the category for each row\ndataframe_filtered['categories'] = dataframe_filtered.apply(get_category_type, axis=1)\n\n# clean column names by keeping only last term\ndataframe_filtered.columns = [column.split('.')[-1] for column in dataframe_filtered.columns]\n\ndataframe_filtered"
        }, 
        {
            "execution_count": 241, 
            "cell_type": "code", 
            "metadata": {}, 
            "outputs": [
                {
                    "execution_count": 241, 
                    "metadata": {}, 
                    "data": {
                        "text/plain": "13"
                    }, 
                    "output_type": "execute_result"
                }
            ], 
            "source": "no_of_venues=dataframe_filtered.shape[0]\nno_of_venues"
        }, 
        {
            "execution_count": 242, 
            "cell_type": "code", 
            "metadata": {}, 
            "outputs": [], 
            "source": "# define the dataframe columns\ncolumn_names = ['name','categories', 'rating', 'distance','address','Latitude', 'Longitude','id'] \nfinal_list= pd.DataFrame(columns=column_names)\nfor x in range(0,no_of_venues):\n    venue_id = dataframe_filtered.id[x] \n    url = 'https://api.foursquare.com/v2/venues/{}?client_id={}&client_secret={}&v={}'.format(venue_id, CLIENT_ID, CLIENT_SECRET, VERSION)\n    result = requests.get(url).json()\n    try:\n         r = result['response']['venue']['rating'] \n    except:\n         r ='This venue has not been rated yet.'\n        \n    final_list = final_list.append({'id': venue_id,\n                                    'name':dataframe_filtered.name[x],\n                                    'distance':dataframe_filtered.distance[x],\n                                    'address':dataframe_filtered.address[x],\n                                    'Latitude':dataframe_filtered.lat[x],\n                                    'Longitude':dataframe_filtered.lng[x],\n                                    'categories':dataframe_filtered.categories[x],\n                                     'rating': r}, ignore_index=True)"
        }, 
        {
            "execution_count": 243, 
            "cell_type": "code", 
            "metadata": {}, 
            "outputs": [
                {
                    "execution_count": 243, 
                    "metadata": {}, 
                    "data": {
                        "text/html": "<div>\n<style scoped>\n    .dataframe tbody tr th:only-of-type {\n        vertical-align: middle;\n    }\n\n    .dataframe tbody tr th {\n        vertical-align: top;\n    }\n\n    .dataframe thead th {\n        text-align: right;\n    }\n</style>\n<table border=\"1\" class=\"dataframe\">\n  <thead>\n    <tr style=\"text-align: right;\">\n      <th></th>\n      <th>name</th>\n      <th>categories</th>\n      <th>rating</th>\n      <th>distance</th>\n      <th>address</th>\n      <th>Latitude</th>\n      <th>Longitude</th>\n      <th>id</th>\n    </tr>\n  </thead>\n  <tbody>\n    <tr>\n      <th>0</th>\n      <td>Baresso Coffee</td>\n      <td>Coffee Shop</td>\n      <td>This venue has not been rated yet.</td>\n      <td>447</td>\n      <td>Baneg\u00e5rdspladsen 16</td>\n      <td>56.150746</td>\n      <td>10.203107</td>\n      <td>4b449f1ff964a52005f825e3</td>\n    </tr>\n    <tr>\n      <th>1</th>\n      <td>Baresso Coffee</td>\n      <td>Coffee Shop</td>\n      <td>This venue has not been rated yet.</td>\n      <td>296</td>\n      <td>Ryesgade 15</td>\n      <td>56.151794</td>\n      <td>10.204912</td>\n      <td>4d8dfaabd4ec8cfaf8c36689</td>\n    </tr>\n    <tr>\n      <th>2</th>\n      <td>Baresso Coffee</td>\n      <td>Coffee Shop</td>\n      <td>This venue has not been rated yet.</td>\n      <td>220</td>\n      <td>Frederiksgade 5</td>\n      <td>56.156305</td>\n      <td>10.206686</td>\n      <td>4c0fd1e881e976b07b260eeb</td>\n    </tr>\n    <tr>\n      <th>3</th>\n      <td>Coffee Ten</td>\n      <td>Coffee Shop</td>\n      <td>This venue has not been rated yet.</td>\n      <td>153</td>\n      <td>NaN</td>\n      <td>56.152980</td>\n      <td>10.205909</td>\n      <td>5d10bede64102800239f8c9d</td>\n    </tr>\n    <tr>\n      <th>4</th>\n      <td>Baresso Coffee</td>\n      <td>Coffee Shop</td>\n      <td>This venue has not been rated yet.</td>\n      <td>195</td>\n      <td>S\u00f8ndergade 2</td>\n      <td>56.155809</td>\n      <td>10.208073</td>\n      <td>4b449ef2f964a520fff725e3</td>\n    </tr>\n    <tr>\n      <th>5</th>\n      <td>Great Coffee</td>\n      <td>Coffee Shop</td>\n      <td>This venue has not been rated yet.</td>\n      <td>525</td>\n      <td>Klostergade 32</td>\n      <td>56.159045</td>\n      <td>10.206855</td>\n      <td>4f2a5d1ee4b0582eff405f6a</td>\n    </tr>\n    <tr>\n      <th>6</th>\n      <td>Street Coffee</td>\n      <td>Coffee Shop</td>\n      <td>This venue has not been rated yet.</td>\n      <td>455</td>\n      <td>Vestergade 52</td>\n      <td>56.157524</td>\n      <td>10.201735</td>\n      <td>4f422c29e4b005b5367c91d5</td>\n    </tr>\n    <tr>\n      <th>7</th>\n      <td>Bill's Coffee</td>\n      <td>Coffee Shop</td>\n      <td>This venue has not been rated yet.</td>\n      <td>486</td>\n      <td>NaN</td>\n      <td>56.157572</td>\n      <td>10.201061</td>\n      <td>521e1701498ee194cb68f2dc</td>\n    </tr>\n    <tr>\n      <th>8</th>\n      <td>La Cabra Coffee</td>\n      <td>Coffee Shop</td>\n      <td>This venue has not been rated yet.</td>\n      <td>436</td>\n      <td>Baneg\u00e5rdspladsen 1</td>\n      <td>56.150502</td>\n      <td>10.204907</td>\n      <td>5b702b38491be70039c0a7b1</td>\n    </tr>\n    <tr>\n      <th>9</th>\n      <td>Clever Coffee</td>\n      <td>Coffee Shop</td>\n      <td>This venue has not been rated yet.</td>\n      <td>388</td>\n      <td>NaN</td>\n      <td>56.151365</td>\n      <td>10.209630</td>\n      <td>59d6275e0a464d72f2dd0d75</td>\n    </tr>\n    <tr>\n      <th>10</th>\n      <td>MENTOR - Sons Of Coffee</td>\n      <td>Scandinavian Restaurant</td>\n      <td>This venue has not been rated yet.</td>\n      <td>561</td>\n      <td>Guldsmedgade 30</td>\n      <td>56.159312</td>\n      <td>10.207833</td>\n      <td>4bee95522c082d7f6f8f3042</td>\n    </tr>\n    <tr>\n      <th>11</th>\n      <td>Caf\u00e9 Vestergade</td>\n      <td>Caf\u00e9</td>\n      <td>This venue has not been rated yet.</td>\n      <td>429</td>\n      <td>Vestergade 42</td>\n      <td>56.157629</td>\n      <td>10.202745</td>\n      <td>4b448aa8f964a5204af625e3</td>\n    </tr>\n    <tr>\n      <th>12</th>\n      <td>Espresso House</td>\n      <td>Coffee Shop</td>\n      <td>This venue has not been rated yet.</td>\n      <td>586</td>\n      <td>M.P. Bruuns Gade 25, Butik 413</td>\n      <td>56.149260</td>\n      <td>10.203828</td>\n      <td>4c15e672a5eb76b04600c4b7</td>\n    </tr>\n  </tbody>\n</table>\n</div>", 
                        "text/plain": "                       name               categories  \\\n0            Baresso Coffee              Coffee Shop   \n1            Baresso Coffee              Coffee Shop   \n2            Baresso Coffee              Coffee Shop   \n3                Coffee Ten              Coffee Shop   \n4            Baresso Coffee              Coffee Shop   \n5              Great Coffee              Coffee Shop   \n6             Street Coffee              Coffee Shop   \n7             Bill's Coffee              Coffee Shop   \n8           La Cabra Coffee              Coffee Shop   \n9             Clever Coffee              Coffee Shop   \n10  MENTOR - Sons Of Coffee  Scandinavian Restaurant   \n11          Caf\u00e9 Vestergade                     Caf\u00e9   \n12           Espresso House              Coffee Shop   \n\n                                rating distance  \\\n0   This venue has not been rated yet.      447   \n1   This venue has not been rated yet.      296   \n2   This venue has not been rated yet.      220   \n3   This venue has not been rated yet.      153   \n4   This venue has not been rated yet.      195   \n5   This venue has not been rated yet.      525   \n6   This venue has not been rated yet.      455   \n7   This venue has not been rated yet.      486   \n8   This venue has not been rated yet.      436   \n9   This venue has not been rated yet.      388   \n10  This venue has not been rated yet.      561   \n11  This venue has not been rated yet.      429   \n12  This venue has not been rated yet.      586   \n\n                           address   Latitude  Longitude  \\\n0              Baneg\u00e5rdspladsen 16  56.150746  10.203107   \n1                      Ryesgade 15  56.151794  10.204912   \n2                  Frederiksgade 5  56.156305  10.206686   \n3                              NaN  56.152980  10.205909   \n4                     S\u00f8ndergade 2  56.155809  10.208073   \n5                   Klostergade 32  56.159045  10.206855   \n6                    Vestergade 52  56.157524  10.201735   \n7                              NaN  56.157572  10.201061   \n8               Baneg\u00e5rdspladsen 1  56.150502  10.204907   \n9                              NaN  56.151365  10.209630   \n10                 Guldsmedgade 30  56.159312  10.207833   \n11                   Vestergade 42  56.157629  10.202745   \n12  M.P. Bruuns Gade 25, Butik 413  56.149260  10.203828   \n\n                          id  \n0   4b449f1ff964a52005f825e3  \n1   4d8dfaabd4ec8cfaf8c36689  \n2   4c0fd1e881e976b07b260eeb  \n3   5d10bede64102800239f8c9d  \n4   4b449ef2f964a520fff725e3  \n5   4f2a5d1ee4b0582eff405f6a  \n6   4f422c29e4b005b5367c91d5  \n7   521e1701498ee194cb68f2dc  \n8   5b702b38491be70039c0a7b1  \n9   59d6275e0a464d72f2dd0d75  \n10  4bee95522c082d7f6f8f3042  \n11  4b448aa8f964a5204af625e3  \n12  4c15e672a5eb76b04600c4b7  "
                    }, 
                    "output_type": "execute_result"
                }
            ], 
            "source": "final_list\n"
        }, 
        {
            "execution_count": 244, 
            "cell_type": "code", 
            "metadata": {}, 
            "outputs": [
                {
                    "execution_count": 244, 
                    "metadata": {}, 
                    "data": {
                        "text/plain": "153"
                    }, 
                    "output_type": "execute_result"
                }
            ], 
            "source": "ff=min(final_list.distance)\nff"
        }, 
        {
            "execution_count": 245, 
            "cell_type": "code", 
            "metadata": {}, 
            "outputs": [
                {
                    "execution_count": 245, 
                    "metadata": {}, 
                    "data": {
                        "text/plain": "'This venue has not been rated yet.'"
                    }, 
                    "output_type": "execute_result"
                }
            ], 
            "source": "ff1=max(final_list.rating)\nff1"
        }, 
        {
            "execution_count": 246, 
            "cell_type": "code", 
            "metadata": {}, 
            "outputs": [], 
            "source": "column_names = [ 'rating', 'distance','id'] \ndf= pd.DataFrame(columns=column_names)\ndf.rating=final_list.rating\ndf.distance=final_list.distance\nfor x in range(0,no_of_venues):\n    df.id[x]=x+1;"
        }, 
        {
            "execution_count": 247, 
            "cell_type": "code", 
            "metadata": {}, 
            "outputs": [
                {
                    "output_type": "stream", 
                    "name": "stderr", 
                    "text": "/opt/conda/envs/Python36/lib/python3.6/site-packages/sklearn/utils/validation.py:595: DataConversionWarning: Data with input dtype object was converted to float64 by StandardScaler.\n  warnings.warn(msg, DataConversionWarning)\n/opt/conda/envs/Python36/lib/python3.6/site-packages/sklearn/utils/validation.py:595: DataConversionWarning: Data with input dtype object was converted to float64 by StandardScaler.\n  warnings.warn(msg, DataConversionWarning)\n"
                }, 
                {
                    "execution_count": 247, 
                    "metadata": {}, 
                    "data": {
                        "text/plain": "array([[ 0.36099668, -1.60356745],\n       [-0.75672648, -1.33630621],\n       [-1.31928913, -1.06904497],\n       [-1.81523251, -0.80178373],\n       [-1.50434263, -0.53452248],\n       [ 0.93836361, -0.26726124],\n       [ 0.4202138 ,  0.        ],\n       [ 0.64968014,  0.26726124],\n       [ 0.27957314,  0.53452248],\n       [-0.07572959,  0.80178373],\n       [ 1.20484065,  1.06904497],\n       [ 0.22775816,  1.33630621],\n       [ 1.38989415,  1.60356745]])"
                    }, 
                    "output_type": "execute_result"
                }
            ], 
            "source": "from sklearn.preprocessing import StandardScaler\n\nX = df.values[:,1:]\nX = np.nan_to_num(X)\ncluster_dataset = StandardScaler().fit_transform(X)\ncluster_dataset"
        }, 
        {
            "execution_count": 248, 
            "cell_type": "code", 
            "metadata": {}, 
            "outputs": [
                {
                    "output_type": "stream", 
                    "name": "stdout", 
                    "text": "[2 1 1 1 1 2 2 2 0 0 0 0 0]\n"
                }
            ], 
            "source": "num_clusters = 3\n\nk_means = KMeans(init=\"k-means++\", n_clusters=num_clusters, n_init=12)\nk_means.fit(cluster_dataset)\nlabels = k_means.labels_\n\nprint(labels)"
        }, 
        {
            "execution_count": 251, 
            "cell_type": "code", 
            "metadata": {}, 
            "outputs": [
                {
                    "execution_count": 251, 
                    "metadata": {}, 
                    "data": {
                        "text/html": "<div>\n<style scoped>\n    .dataframe tbody tr th:only-of-type {\n        vertical-align: middle;\n    }\n\n    .dataframe tbody tr th {\n        vertical-align: top;\n    }\n\n    .dataframe thead th {\n        text-align: right;\n    }\n</style>\n<table border=\"1\" class=\"dataframe\">\n  <thead>\n    <tr style=\"text-align: right;\">\n      <th></th>\n      <th>rating</th>\n      <th>distance</th>\n      <th>id</th>\n      <th>Labels</th>\n    </tr>\n  </thead>\n  <tbody>\n    <tr>\n      <th>0</th>\n      <td>This venue has not been rated yet.</td>\n      <td>447</td>\n      <td>1</td>\n      <td>2</td>\n    </tr>\n    <tr>\n      <th>1</th>\n      <td>This venue has not been rated yet.</td>\n      <td>296</td>\n      <td>2</td>\n      <td>1</td>\n    </tr>\n    <tr>\n      <th>2</th>\n      <td>This venue has not been rated yet.</td>\n      <td>220</td>\n      <td>3</td>\n      <td>1</td>\n    </tr>\n    <tr>\n      <th>3</th>\n      <td>This venue has not been rated yet.</td>\n      <td>153</td>\n      <td>4</td>\n      <td>1</td>\n    </tr>\n    <tr>\n      <th>4</th>\n      <td>This venue has not been rated yet.</td>\n      <td>195</td>\n      <td>5</td>\n      <td>1</td>\n    </tr>\n    <tr>\n      <th>5</th>\n      <td>This venue has not been rated yet.</td>\n      <td>525</td>\n      <td>6</td>\n      <td>2</td>\n    </tr>\n    <tr>\n      <th>6</th>\n      <td>This venue has not been rated yet.</td>\n      <td>455</td>\n      <td>7</td>\n      <td>2</td>\n    </tr>\n    <tr>\n      <th>7</th>\n      <td>This venue has not been rated yet.</td>\n      <td>486</td>\n      <td>8</td>\n      <td>2</td>\n    </tr>\n    <tr>\n      <th>8</th>\n      <td>This venue has not been rated yet.</td>\n      <td>436</td>\n      <td>9</td>\n      <td>0</td>\n    </tr>\n    <tr>\n      <th>9</th>\n      <td>This venue has not been rated yet.</td>\n      <td>388</td>\n      <td>10</td>\n      <td>0</td>\n    </tr>\n    <tr>\n      <th>10</th>\n      <td>This venue has not been rated yet.</td>\n      <td>561</td>\n      <td>11</td>\n      <td>0</td>\n    </tr>\n    <tr>\n      <th>11</th>\n      <td>This venue has not been rated yet.</td>\n      <td>429</td>\n      <td>12</td>\n      <td>0</td>\n    </tr>\n    <tr>\n      <th>12</th>\n      <td>This venue has not been rated yet.</td>\n      <td>586</td>\n      <td>13</td>\n      <td>0</td>\n    </tr>\n  </tbody>\n</table>\n</div>", 
                        "text/plain": "                                rating distance  id  Labels\n0   This venue has not been rated yet.      447   1       2\n1   This venue has not been rated yet.      296   2       1\n2   This venue has not been rated yet.      220   3       1\n3   This venue has not been rated yet.      153   4       1\n4   This venue has not been rated yet.      195   5       1\n5   This venue has not been rated yet.      525   6       2\n6   This venue has not been rated yet.      455   7       2\n7   This venue has not been rated yet.      486   8       2\n8   This venue has not been rated yet.      436   9       0\n9   This venue has not been rated yet.      388  10       0\n10  This venue has not been rated yet.      561  11       0\n11  This venue has not been rated yet.      429  12       0\n12  This venue has not been rated yet.      586  13       0"
                    }, 
                    "output_type": "execute_result"
                }
            ], 
            "source": "df[\"Labels\"] = labels\nfinal_list[\"Labels\"] = labels\ndf"
        }, 
        {
            "execution_count": 252, 
            "cell_type": "code", 
            "metadata": {}, 
            "outputs": [
                {
                    "execution_count": 252, 
                    "metadata": {}, 
                    "data": {
                        "text/html": "<div style=\"width:100%;\"><div style=\"position:relative;width:100%;height:0;padding-bottom:60%;\"><iframe src=\"data:text/html;charset=utf-8;base64,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\" style=\"position:absolute;width:100%;height:100%;left:0;top:0;border:none !important;\" allowfullscreen webkitallowfullscreen mozallowfullscreen></iframe></div></div>", 
                        "text/plain": "<folium.folium.Map at 0x7f765f748860>"
                    }, 
                    "output_type": "execute_result"
                }
            ], 
            "source": "# create map\nmap_clusters = folium.Map(location=[latitude, longitude], zoom_start=11)\n\n# set color scheme for the clusters\nx = np.arange(num_clusters )\nys = [i + x + (i*x)**2 for i in range(num_clusters )]\ncolors_array = cm.rainbow(np.linspace(0, 1, len(ys)))\nrainbow = [colors.rgb2hex(i) for i in colors_array]\n\n# add markers to the map\nmarkers_colors = []\nfor lat, lon, poi, cluster in zip(final_list['Latitude'], final_list['Longitude'], final_list['name'], df['Labels']):\n    label = folium.Popup(str(poi) + ' Cluster ' + str(cluster), parse_html=True)\n    folium.CircleMarker(\n        [lat, lon],\n        radius=5,\n        popup=label,\n        color=rainbow[cluster-1],\n        fill=True,\n        fill_color=rainbow[cluster-1],\n        fill_opacity=0.7).add_to(map_clusters)\n       \nmap_clusters"
        }, 
        {
            "source": "## Result", 
            "cell_type": "markdown", 
            "metadata": {}
        }, 
        {
            "execution_count": 264, 
            "cell_type": "code", 
            "metadata": {}, 
            "outputs": [
                {
                    "output_type": "stream", 
                    "name": "stdout", 
                    "text": "Coffee Ten-  nan\n"
                }
            ], 
            "source": "for x in range(0,no_of_venues):\n    if(final_list.Labels[x]==1): \n        if(min(final_list.distance)==final_list.distance[x]):\n            print(final_list.name[x] + '- ', final_list.address[x] )"
        }, 
        {
            "source": "## conclusion", 
            "cell_type": "markdown", 
            "metadata": {}
        }, 
        {
            "source": "I here conclude  that this system recommends user Coffee Ten shop as this is nearer to the location user is now. It system could have even responded better if it has a rating.", 
            "cell_type": "markdown", 
            "metadata": {}
        }, 
        {
            "execution_count": null, 
            "cell_type": "code", 
            "metadata": {}, 
            "outputs": [], 
            "source": ""
        }
    ], 
    "metadata": {
        "kernelspec": {
            "display_name": "Python 3.6", 
            "name": "python3", 
            "language": "python"
        }, 
        "language_info": {
            "mimetype": "text/x-python", 
            "nbconvert_exporter": "python", 
            "version": "3.6.8", 
            "name": "python", 
            "file_extension": ".py", 
            "pygments_lexer": "ipython3", 
            "codemirror_mode": {
                "version": 3, 
                "name": "ipython"
            }
        }
    }, 
    "nbformat": 4
}